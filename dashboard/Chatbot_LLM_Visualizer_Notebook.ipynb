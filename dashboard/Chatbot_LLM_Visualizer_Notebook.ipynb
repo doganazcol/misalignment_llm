{
 "cells": [
  {
   "cell_type": "markdown",
   "id": "aad6494c-e460-4094-bb71-ae531af1f8a8",
   "metadata": {},
   "source": [
    "# Human–LLM Judgment Alignment on Open and Close Ended Questions using LLM-as-a-Judge"
   ]
  },
  {
   "cell_type": "markdown",
   "id": "dc118766",
   "metadata": {},
   "source": [
    "## Train with the Prompt, Winning Response, and Open/Closed Columns"
   ]
  },
  {
   "cell_type": "code",
   "execution_count": 1,
   "id": "12ca0a6f",
   "metadata": {},
   "outputs": [
    {
     "name": "stdout",
     "output_type": "stream",
     "text": [
      "(575, 9)\n"
     ]
    },
    {
     "data": {
      "text/html": [
       "<div>\n",
       "<style scoped>\n",
       "    .dataframe tbody tr th:only-of-type {\n",
       "        vertical-align: middle;\n",
       "    }\n",
       "\n",
       "    .dataframe tbody tr th {\n",
       "        vertical-align: top;\n",
       "    }\n",
       "\n",
       "    .dataframe thead th {\n",
       "        text-align: right;\n",
       "    }\n",
       "</style>\n",
       "<table border=\"1\" class=\"dataframe\">\n",
       "  <thead>\n",
       "    <tr style=\"text-align: right;\">\n",
       "      <th></th>\n",
       "      <th>prompt</th>\n",
       "      <th>model_a</th>\n",
       "      <th>model_b</th>\n",
       "      <th>response_a</th>\n",
       "      <th>response_b</th>\n",
       "      <th>winner</th>\n",
       "      <th>Open/Closed</th>\n",
       "      <th>Domain</th>\n",
       "      <th>Comments</th>\n",
       "    </tr>\n",
       "  </thead>\n",
       "  <tbody>\n",
       "    <tr>\n",
       "      <th>0</th>\n",
       "      <td>Translate the following from English to German...</td>\n",
       "      <td>stablelm-tuned-alpha-7b</td>\n",
       "      <td>chatglm-6b</td>\n",
       "      <td>In English, the sentence \"Considering the numb...</td>\n",
       "      <td>\" Considering the number of desserts popular i...</td>\n",
       "      <td>tie (bothbad)</td>\n",
       "      <td>closed</td>\n",
       "      <td>factual</td>\n",
       "      <td>NaN</td>\n",
       "    </tr>\n",
       "    <tr>\n",
       "      <th>1</th>\n",
       "      <td>You are a helpful chatbot who looks at rows of...</td>\n",
       "      <td>stablelm-tuned-alpha-7b</td>\n",
       "      <td>gpt-4</td>\n",
       "      <td>Sure, I can help you categorize the rows of da...</td>\n",
       "      <td>[\"\", \"\", \"Shares\", \"Market Value •  ($000)\"]: ...</td>\n",
       "      <td>tie (bothbad)</td>\n",
       "      <td>closed</td>\n",
       "      <td>factual</td>\n",
       "      <td>NaN</td>\n",
       "    </tr>\n",
       "    <tr>\n",
       "      <th>2</th>\n",
       "      <td>Follow the instructions below:\\r\\n1. Analyse t...</td>\n",
       "      <td>llama-13b</td>\n",
       "      <td>RWKV-4-Raven-14B</td>\n",
       "      <td>I just moved to 123 Elm Street, Springfield, I...</td>\n",
       "      <td>1. True\\r\\n2. False</td>\n",
       "      <td>model_b</td>\n",
       "      <td>closed</td>\n",
       "      <td>factual</td>\n",
       "      <td>NaN</td>\n",
       "    </tr>\n",
       "    <tr>\n",
       "      <th>3</th>\n",
       "      <td>How to express a tree mathematically</td>\n",
       "      <td>vicuna-13b</td>\n",
       "      <td>dolly-v2-12b</td>\n",
       "      <td>There are several ways to express a tree mathe...</td>\n",
       "      <td>Let tree(x) denote a tree where x is the root ...</td>\n",
       "      <td>model_a</td>\n",
       "      <td>closed</td>\n",
       "      <td>math</td>\n",
       "      <td>NaN</td>\n",
       "    </tr>\n",
       "    <tr>\n",
       "      <th>4</th>\n",
       "      <td>Tell me if the following numbers are even or o...</td>\n",
       "      <td>llama-13b</td>\n",
       "      <td>vicuna-13b</td>\n",
       "      <td>3, 16, 17, 2110 are even.</td>\n",
       "      <td>3 is odd\\r\\n16 is even\\r\\n17 is odd\\r\\n2110 is...</td>\n",
       "      <td>model_b</td>\n",
       "      <td>closed</td>\n",
       "      <td>math</td>\n",
       "      <td>NaN</td>\n",
       "    </tr>\n",
       "  </tbody>\n",
       "</table>\n",
       "</div>"
      ],
      "text/plain": [
       "                                              prompt                  model_a  \\\n",
       "0  Translate the following from English to German...  stablelm-tuned-alpha-7b   \n",
       "1  You are a helpful chatbot who looks at rows of...  stablelm-tuned-alpha-7b   \n",
       "2  Follow the instructions below:\\r\\n1. Analyse t...                llama-13b   \n",
       "3               How to express a tree mathematically               vicuna-13b   \n",
       "4  Tell me if the following numbers are even or o...                llama-13b   \n",
       "\n",
       "            model_b                                         response_a  \\\n",
       "0        chatglm-6b  In English, the sentence \"Considering the numb...   \n",
       "1             gpt-4  Sure, I can help you categorize the rows of da...   \n",
       "2  RWKV-4-Raven-14B  I just moved to 123 Elm Street, Springfield, I...   \n",
       "3      dolly-v2-12b  There are several ways to express a tree mathe...   \n",
       "4        vicuna-13b                          3, 16, 17, 2110 are even.   \n",
       "\n",
       "                                          response_b         winner  \\\n",
       "0  \" Considering the number of desserts popular i...  tie (bothbad)   \n",
       "1  [\"\", \"\", \"Shares\", \"Market Value •  ($000)\"]: ...  tie (bothbad)   \n",
       "2                                1. True\\r\\n2. False        model_b   \n",
       "3  Let tree(x) denote a tree where x is the root ...        model_a   \n",
       "4  3 is odd\\r\\n16 is even\\r\\n17 is odd\\r\\n2110 is...        model_b   \n",
       "\n",
       "  Open/Closed   Domain Comments  \n",
       "0      closed  factual      NaN  \n",
       "1      closed  factual      NaN  \n",
       "2      closed  factual      NaN  \n",
       "3      closed     math      NaN  \n",
       "4      closed     math      NaN  "
      ]
     },
     "execution_count": 1,
     "metadata": {},
     "output_type": "execute_result"
    }
   ],
   "source": [
    "# import\n",
    "import pandas as pd\n",
    "import numpy as np\n",
    "df = pd.read_csv(\"sampled_dataset.csv\")\n",
    "print(df.shape)\n",
    "df.head()"
   ]
  },
  {
   "cell_type": "code",
   "execution_count": 2,
   "id": "85480e32",
   "metadata": {},
   "outputs": [
    {
     "name": "stdout",
     "output_type": "stream",
     "text": [
      "['factual' 'math' 'code' 'creative' 'opinion' nan 'creative ' 'opnion'\n",
      " 'opinion ' 'math/code']\n",
      "['closed' 'open' 'close' nan 'opinion' 'closed ' 'open ']\n"
     ]
    }
   ],
   "source": [
    "print(df['Domain'].unique())\n",
    "print(df['Open/Closed'].unique())"
   ]
  },
  {
   "cell_type": "code",
   "execution_count": 3,
   "id": "5f80795d",
   "metadata": {},
   "outputs": [
    {
     "name": "stdout",
     "output_type": "stream",
     "text": [
      "(561, 9)\n"
     ]
    }
   ],
   "source": [
    "# clean data \n",
    "valid_domains = ['opinion', 'creative', 'factual', 'code', 'math']\n",
    "df = df[df['Domain'].isin(valid_domains)].copy()\n",
    "valid_open_closed = ['open', 'closed']\n",
    "df = df[df['Open/Closed'].isin(valid_open_closed)].copy()\n",
    "print(df.shape)"
   ]
  },
  {
   "cell_type": "code",
   "execution_count": 4,
   "id": "41168a0c",
   "metadata": {},
   "outputs": [
    {
     "data": {
      "text/html": [
       "<div>\n",
       "<style scoped>\n",
       "    .dataframe tbody tr th:only-of-type {\n",
       "        vertical-align: middle;\n",
       "    }\n",
       "\n",
       "    .dataframe tbody tr th {\n",
       "        vertical-align: top;\n",
       "    }\n",
       "\n",
       "    .dataframe thead th {\n",
       "        text-align: right;\n",
       "    }\n",
       "</style>\n",
       "<table border=\"1\" class=\"dataframe\">\n",
       "  <thead>\n",
       "    <tr style=\"text-align: right;\">\n",
       "      <th></th>\n",
       "      <th>prompt</th>\n",
       "      <th>model_a</th>\n",
       "      <th>model_b</th>\n",
       "      <th>response_a</th>\n",
       "      <th>response_b</th>\n",
       "      <th>winner</th>\n",
       "      <th>Open/Closed</th>\n",
       "      <th>Domain</th>\n",
       "      <th>Comments</th>\n",
       "      <th>winning_response</th>\n",
       "    </tr>\n",
       "  </thead>\n",
       "  <tbody>\n",
       "    <tr>\n",
       "      <th>0</th>\n",
       "      <td>Translate the following from English to German...</td>\n",
       "      <td>stablelm-tuned-alpha-7b</td>\n",
       "      <td>chatglm-6b</td>\n",
       "      <td>In English, the sentence \"Considering the numb...</td>\n",
       "      <td>\" Considering the number of desserts popular i...</td>\n",
       "      <td>tie (bothbad)</td>\n",
       "      <td>closed</td>\n",
       "      <td>factual</td>\n",
       "      <td>NaN</td>\n",
       "      <td></td>\n",
       "    </tr>\n",
       "    <tr>\n",
       "      <th>1</th>\n",
       "      <td>You are a helpful chatbot who looks at rows of...</td>\n",
       "      <td>stablelm-tuned-alpha-7b</td>\n",
       "      <td>gpt-4</td>\n",
       "      <td>Sure, I can help you categorize the rows of da...</td>\n",
       "      <td>[\"\", \"\", \"Shares\", \"Market Value •  ($000)\"]: ...</td>\n",
       "      <td>tie (bothbad)</td>\n",
       "      <td>closed</td>\n",
       "      <td>factual</td>\n",
       "      <td>NaN</td>\n",
       "      <td></td>\n",
       "    </tr>\n",
       "    <tr>\n",
       "      <th>2</th>\n",
       "      <td>Follow the instructions below:\\r\\n1. Analyse t...</td>\n",
       "      <td>llama-13b</td>\n",
       "      <td>RWKV-4-Raven-14B</td>\n",
       "      <td>I just moved to 123 Elm Street, Springfield, I...</td>\n",
       "      <td>1. True\\r\\n2. False</td>\n",
       "      <td>model_b</td>\n",
       "      <td>closed</td>\n",
       "      <td>factual</td>\n",
       "      <td>NaN</td>\n",
       "      <td>1. True\\r\\n2. False</td>\n",
       "    </tr>\n",
       "    <tr>\n",
       "      <th>3</th>\n",
       "      <td>How to express a tree mathematically</td>\n",
       "      <td>vicuna-13b</td>\n",
       "      <td>dolly-v2-12b</td>\n",
       "      <td>There are several ways to express a tree mathe...</td>\n",
       "      <td>Let tree(x) denote a tree where x is the root ...</td>\n",
       "      <td>model_a</td>\n",
       "      <td>closed</td>\n",
       "      <td>math</td>\n",
       "      <td>NaN</td>\n",
       "      <td>There are several ways to express a tree mathe...</td>\n",
       "    </tr>\n",
       "    <tr>\n",
       "      <th>4</th>\n",
       "      <td>Tell me if the following numbers are even or o...</td>\n",
       "      <td>llama-13b</td>\n",
       "      <td>vicuna-13b</td>\n",
       "      <td>3, 16, 17, 2110 are even.</td>\n",
       "      <td>3 is odd\\r\\n16 is even\\r\\n17 is odd\\r\\n2110 is...</td>\n",
       "      <td>model_b</td>\n",
       "      <td>closed</td>\n",
       "      <td>math</td>\n",
       "      <td>NaN</td>\n",
       "      <td>3 is odd\\r\\n16 is even\\r\\n17 is odd\\r\\n2110 is...</td>\n",
       "    </tr>\n",
       "  </tbody>\n",
       "</table>\n",
       "</div>"
      ],
      "text/plain": [
       "                                              prompt                  model_a  \\\n",
       "0  Translate the following from English to German...  stablelm-tuned-alpha-7b   \n",
       "1  You are a helpful chatbot who looks at rows of...  stablelm-tuned-alpha-7b   \n",
       "2  Follow the instructions below:\\r\\n1. Analyse t...                llama-13b   \n",
       "3               How to express a tree mathematically               vicuna-13b   \n",
       "4  Tell me if the following numbers are even or o...                llama-13b   \n",
       "\n",
       "            model_b                                         response_a  \\\n",
       "0        chatglm-6b  In English, the sentence \"Considering the numb...   \n",
       "1             gpt-4  Sure, I can help you categorize the rows of da...   \n",
       "2  RWKV-4-Raven-14B  I just moved to 123 Elm Street, Springfield, I...   \n",
       "3      dolly-v2-12b  There are several ways to express a tree mathe...   \n",
       "4        vicuna-13b                          3, 16, 17, 2110 are even.   \n",
       "\n",
       "                                          response_b         winner  \\\n",
       "0  \" Considering the number of desserts popular i...  tie (bothbad)   \n",
       "1  [\"\", \"\", \"Shares\", \"Market Value •  ($000)\"]: ...  tie (bothbad)   \n",
       "2                                1. True\\r\\n2. False        model_b   \n",
       "3  Let tree(x) denote a tree where x is the root ...        model_a   \n",
       "4  3 is odd\\r\\n16 is even\\r\\n17 is odd\\r\\n2110 is...        model_b   \n",
       "\n",
       "  Open/Closed   Domain Comments  \\\n",
       "0      closed  factual      NaN   \n",
       "1      closed  factual      NaN   \n",
       "2      closed  factual      NaN   \n",
       "3      closed     math      NaN   \n",
       "4      closed     math      NaN   \n",
       "\n",
       "                                    winning_response  \n",
       "0                                                     \n",
       "1                                                     \n",
       "2                                1. True\\r\\n2. False  \n",
       "3  There are several ways to express a tree mathe...  \n",
       "4  3 is odd\\r\\n16 is even\\r\\n17 is odd\\r\\n2110 is...  "
      ]
     },
     "execution_count": 4,
     "metadata": {},
     "output_type": "execute_result"
    }
   ],
   "source": [
    "# add winning response \n",
    "def get_winning_response(row):\n",
    "    if row['winner'] == 'model_a':\n",
    "        return row['response_a']\n",
    "    elif row['winner'] == 'model_b':\n",
    "        return row['response_b']\n",
    "    else:\n",
    "        return \"\"  # tie or bothbad\n",
    "\n",
    "df[\"winning_response\"] = df.apply(get_winning_response, axis=1)\n",
    "df.head()"
   ]
  },
  {
   "cell_type": "code",
   "execution_count": 5,
   "id": "8d50a2ae",
   "metadata": {},
   "outputs": [
    {
     "data": {
      "text/html": [
       "<div>\n",
       "<style scoped>\n",
       "    .dataframe tbody tr th:only-of-type {\n",
       "        vertical-align: middle;\n",
       "    }\n",
       "\n",
       "    .dataframe tbody tr th {\n",
       "        vertical-align: top;\n",
       "    }\n",
       "\n",
       "    .dataframe thead th {\n",
       "        text-align: right;\n",
       "    }\n",
       "</style>\n",
       "<table border=\"1\" class=\"dataframe\">\n",
       "  <thead>\n",
       "    <tr style=\"text-align: right;\">\n",
       "      <th></th>\n",
       "      <th>prompt</th>\n",
       "      <th>model_a</th>\n",
       "      <th>model_b</th>\n",
       "      <th>response_a</th>\n",
       "      <th>response_b</th>\n",
       "      <th>winner</th>\n",
       "      <th>Open/Closed</th>\n",
       "      <th>Domain</th>\n",
       "      <th>Comments</th>\n",
       "      <th>winning_response</th>\n",
       "      <th>combined_text</th>\n",
       "    </tr>\n",
       "  </thead>\n",
       "  <tbody>\n",
       "    <tr>\n",
       "      <th>0</th>\n",
       "      <td>Translate the following from English to German...</td>\n",
       "      <td>stablelm-tuned-alpha-7b</td>\n",
       "      <td>chatglm-6b</td>\n",
       "      <td>In English, the sentence \"Considering the numb...</td>\n",
       "      <td>\" Considering the number of desserts popular i...</td>\n",
       "      <td>tie (bothbad)</td>\n",
       "      <td>closed</td>\n",
       "      <td>factual</td>\n",
       "      <td>NaN</td>\n",
       "      <td></td>\n",
       "      <td>Translate the following from English to German...</td>\n",
       "    </tr>\n",
       "    <tr>\n",
       "      <th>1</th>\n",
       "      <td>You are a helpful chatbot who looks at rows of...</td>\n",
       "      <td>stablelm-tuned-alpha-7b</td>\n",
       "      <td>gpt-4</td>\n",
       "      <td>Sure, I can help you categorize the rows of da...</td>\n",
       "      <td>[\"\", \"\", \"Shares\", \"Market Value •  ($000)\"]: ...</td>\n",
       "      <td>tie (bothbad)</td>\n",
       "      <td>closed</td>\n",
       "      <td>factual</td>\n",
       "      <td>NaN</td>\n",
       "      <td></td>\n",
       "      <td>You are a helpful chatbot who looks at rows of...</td>\n",
       "    </tr>\n",
       "    <tr>\n",
       "      <th>2</th>\n",
       "      <td>Follow the instructions below:\\r\\n1. Analyse t...</td>\n",
       "      <td>llama-13b</td>\n",
       "      <td>RWKV-4-Raven-14B</td>\n",
       "      <td>I just moved to 123 Elm Street, Springfield, I...</td>\n",
       "      <td>1. True\\r\\n2. False</td>\n",
       "      <td>model_b</td>\n",
       "      <td>closed</td>\n",
       "      <td>factual</td>\n",
       "      <td>NaN</td>\n",
       "      <td>1. True\\r\\n2. False</td>\n",
       "      <td>Follow the instructions below:\\r\\n1. Analyse t...</td>\n",
       "    </tr>\n",
       "    <tr>\n",
       "      <th>3</th>\n",
       "      <td>How to express a tree mathematically</td>\n",
       "      <td>vicuna-13b</td>\n",
       "      <td>dolly-v2-12b</td>\n",
       "      <td>There are several ways to express a tree mathe...</td>\n",
       "      <td>Let tree(x) denote a tree where x is the root ...</td>\n",
       "      <td>model_a</td>\n",
       "      <td>closed</td>\n",
       "      <td>math</td>\n",
       "      <td>NaN</td>\n",
       "      <td>There are several ways to express a tree mathe...</td>\n",
       "      <td>How to express a tree mathematically [SEP] The...</td>\n",
       "    </tr>\n",
       "    <tr>\n",
       "      <th>4</th>\n",
       "      <td>Tell me if the following numbers are even or o...</td>\n",
       "      <td>llama-13b</td>\n",
       "      <td>vicuna-13b</td>\n",
       "      <td>3, 16, 17, 2110 are even.</td>\n",
       "      <td>3 is odd\\r\\n16 is even\\r\\n17 is odd\\r\\n2110 is...</td>\n",
       "      <td>model_b</td>\n",
       "      <td>closed</td>\n",
       "      <td>math</td>\n",
       "      <td>NaN</td>\n",
       "      <td>3 is odd\\r\\n16 is even\\r\\n17 is odd\\r\\n2110 is...</td>\n",
       "      <td>Tell me if the following numbers are even or o...</td>\n",
       "    </tr>\n",
       "  </tbody>\n",
       "</table>\n",
       "</div>"
      ],
      "text/plain": [
       "                                              prompt                  model_a  \\\n",
       "0  Translate the following from English to German...  stablelm-tuned-alpha-7b   \n",
       "1  You are a helpful chatbot who looks at rows of...  stablelm-tuned-alpha-7b   \n",
       "2  Follow the instructions below:\\r\\n1. Analyse t...                llama-13b   \n",
       "3               How to express a tree mathematically               vicuna-13b   \n",
       "4  Tell me if the following numbers are even or o...                llama-13b   \n",
       "\n",
       "            model_b                                         response_a  \\\n",
       "0        chatglm-6b  In English, the sentence \"Considering the numb...   \n",
       "1             gpt-4  Sure, I can help you categorize the rows of da...   \n",
       "2  RWKV-4-Raven-14B  I just moved to 123 Elm Street, Springfield, I...   \n",
       "3      dolly-v2-12b  There are several ways to express a tree mathe...   \n",
       "4        vicuna-13b                          3, 16, 17, 2110 are even.   \n",
       "\n",
       "                                          response_b         winner  \\\n",
       "0  \" Considering the number of desserts popular i...  tie (bothbad)   \n",
       "1  [\"\", \"\", \"Shares\", \"Market Value •  ($000)\"]: ...  tie (bothbad)   \n",
       "2                                1. True\\r\\n2. False        model_b   \n",
       "3  Let tree(x) denote a tree where x is the root ...        model_a   \n",
       "4  3 is odd\\r\\n16 is even\\r\\n17 is odd\\r\\n2110 is...        model_b   \n",
       "\n",
       "  Open/Closed   Domain Comments  \\\n",
       "0      closed  factual      NaN   \n",
       "1      closed  factual      NaN   \n",
       "2      closed  factual      NaN   \n",
       "3      closed     math      NaN   \n",
       "4      closed     math      NaN   \n",
       "\n",
       "                                    winning_response  \\\n",
       "0                                                      \n",
       "1                                                      \n",
       "2                                1. True\\r\\n2. False   \n",
       "3  There are several ways to express a tree mathe...   \n",
       "4  3 is odd\\r\\n16 is even\\r\\n17 is odd\\r\\n2110 is...   \n",
       "\n",
       "                                       combined_text  \n",
       "0  Translate the following from English to German...  \n",
       "1  You are a helpful chatbot who looks at rows of...  \n",
       "2  Follow the instructions below:\\r\\n1. Analyse t...  \n",
       "3  How to express a tree mathematically [SEP] The...  \n",
       "4  Tell me if the following numbers are even or o...  "
      ]
     },
     "execution_count": 5,
     "metadata": {},
     "output_type": "execute_result"
    }
   ],
   "source": [
    "# make a combined text column for features that are used (since features do not have weights in RBF due to being nonlinear)\n",
    "df[\"combined_text\"] = (\n",
    "    df[\"prompt\"] + \" [SEP] \" + \n",
    "    df[\"winning_response\"] + \" [SEP] \" +\n",
    "    df[\"Open/Closed\"].astype(str)\n",
    ")\n",
    "df.head()"
   ]
  },
  {
   "cell_type": "code",
   "execution_count": 6,
   "id": "8494bfa3",
   "metadata": {},
   "outputs": [
    {
     "name": "stdout",
     "output_type": "stream",
     "text": [
      "{'code': 0, 'creative': 1, 'factual': 2, 'math': 3, 'opinion': 4}\n"
     ]
    }
   ],
   "source": [
    "# encode domain labels\n",
    "from sklearn.preprocessing import LabelEncoder\n",
    "\n",
    "le = LabelEncoder()\n",
    "df[\"domain_label\"] = le.fit_transform(df[\"Domain\"])\n",
    "label_mapping = dict(zip(le.classes_, le.transform(le.classes_)))\n",
    "print(label_mapping)"
   ]
  },
  {
   "cell_type": "code",
   "execution_count": 7,
   "id": "4b867679",
   "metadata": {},
   "outputs": [
    {
     "name": "stdout",
     "output_type": "stream",
     "text": [
      "Train size: 448, Test size: 113\n"
     ]
    }
   ],
   "source": [
    "# train test split \n",
    "from sklearn.model_selection import train_test_split\n",
    "\n",
    "X_train, X_test, y_train, y_test = train_test_split(\n",
    "    df[\"combined_text\"], df[\"domain_label\"],\n",
    "    test_size=0.2, random_state=42, stratify=df[\"Domain\"]\n",
    ")\n",
    "print(f\"Train size: {len(X_train)}, Test size: {len(X_test)}\")"
   ]
  },
  {
   "cell_type": "code",
   "execution_count": 8,
   "id": "8ec7da4f",
   "metadata": {},
   "outputs": [],
   "source": [
    "# vectorize text data using TF-IDF\n",
    "from sklearn.feature_extraction.text import TfidfVectorizer\n",
    "\n",
    "vectorizer = TfidfVectorizer(\n",
    "    max_features=3000,      # You can tweak this\n",
    "    stop_words='english',   # Remove common words\n",
    "    ngram_range=(1, 2)      # Optionally include bigrams\n",
    ")\n",
    "\n",
    "# Fit to training data and transform both sets\n",
    "X_train_vec = vectorizer.fit_transform(X_train)\n",
    "X_test_vec = vectorizer.transform(X_test)"
   ]
  },
  {
   "cell_type": "code",
   "execution_count": 9,
   "id": "41cd54fa",
   "metadata": {},
   "outputs": [
    {
     "name": "stdout",
     "output_type": "stream",
     "text": [
      "Fitting 5 folds for each of 16 candidates, totalling 80 fits\n",
      "Best hyperparameters found: {'C': 100, 'gamma': 0.1}\n"
     ]
    }
   ],
   "source": [
    "# hyperparameter tuning \n",
    "from sklearn.svm import SVC\n",
    "from sklearn.model_selection import GridSearchCV\n",
    "from sklearn.metrics import classification_report\n",
    "\n",
    "# Define parameter grid to search\n",
    "param_grid = {\n",
    "    'C': [0.1, 1, 10, 100],\n",
    "    'gamma': ['scale', 0.1, 0.01, 0.001]\n",
    "}\n",
    "\n",
    "# Initialize the SVC with RBF kernel\n",
    "svm_rbf = SVC(kernel='rbf', random_state=42)\n",
    "\n",
    "# Run GridSearch with 5-fold cross-validation\n",
    "grid_search = GridSearchCV(\n",
    "    estimator=svm_rbf,\n",
    "    param_grid=param_grid,\n",
    "    cv=5,                   # 5-fold cross-validation\n",
    "    scoring='accuracy',     # Optimize for accuracy\n",
    "    verbose=2,              # Print progress\n",
    "    n_jobs=-1               # Use all CPU cores\n",
    ")\n",
    "\n",
    "# Fit GridSearch on scaled embeddings\n",
    "grid_search.fit(X_train_vec, y_train)\n",
    "\n",
    "# Best hyperparameters\n",
    "print(\"Best hyperparameters found:\", grid_search.best_params_)\n",
    "\n",
    "# Train your final model using the best estimator\n",
    "best_svm = grid_search.best_estimator_"
   ]
  },
  {
   "cell_type": "code",
   "execution_count": 10,
   "id": "9f24b499",
   "metadata": {},
   "outputs": [
    {
     "name": "stdout",
     "output_type": "stream",
     "text": [
      "              precision    recall  f1-score   support\n",
      "\n",
      "        code       0.75      0.60      0.67        15\n",
      "    creative       0.73      0.53      0.62        30\n",
      "     factual       0.45      0.57      0.51        35\n",
      "        math       0.00      0.00      0.00         8\n",
      "     opinion       0.44      0.56      0.49        25\n",
      "\n",
      "    accuracy                           0.52       113\n",
      "   macro avg       0.47      0.45      0.46       113\n",
      "weighted avg       0.53      0.52      0.52       113\n",
      "\n"
     ]
    }
   ],
   "source": [
    "# Evaluate the tuned model\n",
    "y_pred = best_svm.predict(X_test_vec)\n",
    "print(classification_report(y_test, y_pred, target_names=le.classes_))"
   ]
  },
  {
   "cell_type": "markdown",
   "id": "44ddac41",
   "metadata": {},
   "source": [
    "# Train Only with the Prompt Column"
   ]
  },
  {
   "cell_type": "code",
   "execution_count": 11,
   "id": "ddc62b1b",
   "metadata": {},
   "outputs": [
    {
     "data": {
      "text/html": [
       "<div>\n",
       "<style scoped>\n",
       "    .dataframe tbody tr th:only-of-type {\n",
       "        vertical-align: middle;\n",
       "    }\n",
       "\n",
       "    .dataframe tbody tr th {\n",
       "        vertical-align: top;\n",
       "    }\n",
       "\n",
       "    .dataframe thead th {\n",
       "        text-align: right;\n",
       "    }\n",
       "</style>\n",
       "<table border=\"1\" class=\"dataframe\">\n",
       "  <thead>\n",
       "    <tr style=\"text-align: right;\">\n",
       "      <th></th>\n",
       "      <th>prompt</th>\n",
       "      <th>model_a</th>\n",
       "      <th>model_b</th>\n",
       "      <th>response_a</th>\n",
       "      <th>response_b</th>\n",
       "      <th>winner</th>\n",
       "      <th>Open/Closed</th>\n",
       "      <th>Domain</th>\n",
       "      <th>Comments</th>\n",
       "    </tr>\n",
       "  </thead>\n",
       "  <tbody>\n",
       "    <tr>\n",
       "      <th>0</th>\n",
       "      <td>Translate the following from English to German...</td>\n",
       "      <td>stablelm-tuned-alpha-7b</td>\n",
       "      <td>chatglm-6b</td>\n",
       "      <td>In English, the sentence \"Considering the numb...</td>\n",
       "      <td>\" Considering the number of desserts popular i...</td>\n",
       "      <td>tie (bothbad)</td>\n",
       "      <td>closed</td>\n",
       "      <td>factual</td>\n",
       "      <td>NaN</td>\n",
       "    </tr>\n",
       "    <tr>\n",
       "      <th>1</th>\n",
       "      <td>You are a helpful chatbot who looks at rows of...</td>\n",
       "      <td>stablelm-tuned-alpha-7b</td>\n",
       "      <td>gpt-4</td>\n",
       "      <td>Sure, I can help you categorize the rows of da...</td>\n",
       "      <td>[\"\", \"\", \"Shares\", \"Market Value •  ($000)\"]: ...</td>\n",
       "      <td>tie (bothbad)</td>\n",
       "      <td>closed</td>\n",
       "      <td>factual</td>\n",
       "      <td>NaN</td>\n",
       "    </tr>\n",
       "    <tr>\n",
       "      <th>2</th>\n",
       "      <td>Follow the instructions below:\\r\\n1. Analyse t...</td>\n",
       "      <td>llama-13b</td>\n",
       "      <td>RWKV-4-Raven-14B</td>\n",
       "      <td>I just moved to 123 Elm Street, Springfield, I...</td>\n",
       "      <td>1. True\\r\\n2. False</td>\n",
       "      <td>model_b</td>\n",
       "      <td>closed</td>\n",
       "      <td>factual</td>\n",
       "      <td>NaN</td>\n",
       "    </tr>\n",
       "    <tr>\n",
       "      <th>3</th>\n",
       "      <td>How to express a tree mathematically</td>\n",
       "      <td>vicuna-13b</td>\n",
       "      <td>dolly-v2-12b</td>\n",
       "      <td>There are several ways to express a tree mathe...</td>\n",
       "      <td>Let tree(x) denote a tree where x is the root ...</td>\n",
       "      <td>model_a</td>\n",
       "      <td>closed</td>\n",
       "      <td>math</td>\n",
       "      <td>NaN</td>\n",
       "    </tr>\n",
       "    <tr>\n",
       "      <th>4</th>\n",
       "      <td>Tell me if the following numbers are even or o...</td>\n",
       "      <td>llama-13b</td>\n",
       "      <td>vicuna-13b</td>\n",
       "      <td>3, 16, 17, 2110 are even.</td>\n",
       "      <td>3 is odd\\r\\n16 is even\\r\\n17 is odd\\r\\n2110 is...</td>\n",
       "      <td>model_b</td>\n",
       "      <td>closed</td>\n",
       "      <td>math</td>\n",
       "      <td>NaN</td>\n",
       "    </tr>\n",
       "  </tbody>\n",
       "</table>\n",
       "</div>"
      ],
      "text/plain": [
       "                                              prompt                  model_a  \\\n",
       "0  Translate the following from English to German...  stablelm-tuned-alpha-7b   \n",
       "1  You are a helpful chatbot who looks at rows of...  stablelm-tuned-alpha-7b   \n",
       "2  Follow the instructions below:\\r\\n1. Analyse t...                llama-13b   \n",
       "3               How to express a tree mathematically               vicuna-13b   \n",
       "4  Tell me if the following numbers are even or o...                llama-13b   \n",
       "\n",
       "            model_b                                         response_a  \\\n",
       "0        chatglm-6b  In English, the sentence \"Considering the numb...   \n",
       "1             gpt-4  Sure, I can help you categorize the rows of da...   \n",
       "2  RWKV-4-Raven-14B  I just moved to 123 Elm Street, Springfield, I...   \n",
       "3      dolly-v2-12b  There are several ways to express a tree mathe...   \n",
       "4        vicuna-13b                          3, 16, 17, 2110 are even.   \n",
       "\n",
       "                                          response_b         winner  \\\n",
       "0  \" Considering the number of desserts popular i...  tie (bothbad)   \n",
       "1  [\"\", \"\", \"Shares\", \"Market Value •  ($000)\"]: ...  tie (bothbad)   \n",
       "2                                1. True\\r\\n2. False        model_b   \n",
       "3  Let tree(x) denote a tree where x is the root ...        model_a   \n",
       "4  3 is odd\\r\\n16 is even\\r\\n17 is odd\\r\\n2110 is...        model_b   \n",
       "\n",
       "  Open/Closed   Domain Comments  \n",
       "0      closed  factual      NaN  \n",
       "1      closed  factual      NaN  \n",
       "2      closed  factual      NaN  \n",
       "3      closed     math      NaN  \n",
       "4      closed     math      NaN  "
      ]
     },
     "execution_count": 11,
     "metadata": {},
     "output_type": "execute_result"
    }
   ],
   "source": [
    "# import \n",
    "df_prompt = pd.read_csv(\"sampled_dataset.csv\")\n",
    "df_prompt = df_prompt[df_prompt['Domain'].isin(valid_domains)].copy()\n",
    "df_prompt.head()"
   ]
  },
  {
   "cell_type": "code",
   "execution_count": 12,
   "id": "9eade643",
   "metadata": {},
   "outputs": [],
   "source": [
    "# transform domain labels\n",
    "df_prompt[\"domain_label\"] = le.fit_transform(df_prompt[\"Domain\"])\n",
    "label_mapping_prompt = dict(zip(le.classes_, le.transform(le.classes_)))"
   ]
  },
  {
   "cell_type": "code",
   "execution_count": 13,
   "id": "c560ec94",
   "metadata": {},
   "outputs": [
    {
     "name": "stdout",
     "output_type": "stream",
     "text": [
      "Train size: 453, Test size: 114\n"
     ]
    }
   ],
   "source": [
    "# train test split \n",
    "X_train_prompt, X_test_prompt, y_train_prompt, y_test_prompt = train_test_split(\n",
    "    df_prompt[\"prompt\"], df_prompt[\"domain_label\"],\n",
    "    test_size=0.2, random_state=42, stratify=df_prompt[\"Domain\"]\n",
    ")\n",
    "print(f\"Train size: {len(X_train_prompt)}, Test size: {len(X_test_prompt)}\")"
   ]
  },
  {
   "cell_type": "code",
   "execution_count": 14,
   "id": "7d1374d3",
   "metadata": {},
   "outputs": [],
   "source": [
    "# vectorize text data using TF-IDF\n",
    "X_train_vec_prompt = vectorizer.fit_transform(X_train_prompt)\n",
    "X_test_vec_prompt = vectorizer.transform(X_test_prompt)"
   ]
  },
  {
   "cell_type": "code",
   "execution_count": 15,
   "id": "746801b3",
   "metadata": {},
   "outputs": [
    {
     "name": "stdout",
     "output_type": "stream",
     "text": [
      "Fitting 5 folds for each of 16 candidates, totalling 80 fits\n",
      "Best hyperparameters found: {'C': 10, 'gamma': 0.1}\n"
     ]
    }
   ],
   "source": [
    "# hyperparameter tuning \n",
    "grid_search.fit(X_train_vec_prompt, y_train_prompt)\n",
    "\n",
    "# Best hyperparameters\n",
    "print(\"Best hyperparameters found:\", grid_search.best_params_)\n",
    "\n",
    "# Train your final model using the best estimator\n",
    "best_svm_prompt = grid_search.best_estimator_"
   ]
  },
  {
   "cell_type": "code",
   "execution_count": 16,
   "id": "3d05d981",
   "metadata": {},
   "outputs": [
    {
     "name": "stdout",
     "output_type": "stream",
     "text": [
      "              precision    recall  f1-score   support\n",
      "\n",
      "        code       0.73      0.53      0.62        15\n",
      "    creative       0.65      0.73      0.69        30\n",
      "     factual       0.41      0.50      0.45        36\n",
      "        math       0.25      0.12      0.17         8\n",
      "     opinion       0.52      0.44      0.48        25\n",
      "\n",
      "    accuracy                           0.53       114\n",
      "   macro avg       0.51      0.47      0.48       114\n",
      "weighted avg       0.53      0.53      0.52       114\n",
      "\n"
     ]
    }
   ],
   "source": [
    "# Evaluate the tuned model\n",
    "y_pred_prompt = best_svm_prompt.predict(X_test_vec_prompt)\n",
    "print(classification_report(y_test_prompt, y_pred_prompt, target_names=le.classes_))"
   ]
  },
  {
   "cell_type": "markdown",
   "id": "307c018b",
   "metadata": {},
   "source": [
    "# Train with the Prompt and Open/Closed Columns"
   ]
  },
  {
   "cell_type": "code",
   "execution_count": 17,
   "id": "a462f1d6",
   "metadata": {},
   "outputs": [
    {
     "data": {
      "text/html": [
       "<div>\n",
       "<style scoped>\n",
       "    .dataframe tbody tr th:only-of-type {\n",
       "        vertical-align: middle;\n",
       "    }\n",
       "\n",
       "    .dataframe tbody tr th {\n",
       "        vertical-align: top;\n",
       "    }\n",
       "\n",
       "    .dataframe thead th {\n",
       "        text-align: right;\n",
       "    }\n",
       "</style>\n",
       "<table border=\"1\" class=\"dataframe\">\n",
       "  <thead>\n",
       "    <tr style=\"text-align: right;\">\n",
       "      <th></th>\n",
       "      <th>prompt</th>\n",
       "      <th>model_a</th>\n",
       "      <th>model_b</th>\n",
       "      <th>response_a</th>\n",
       "      <th>response_b</th>\n",
       "      <th>winner</th>\n",
       "      <th>Open/Closed</th>\n",
       "      <th>Domain</th>\n",
       "      <th>Comments</th>\n",
       "    </tr>\n",
       "  </thead>\n",
       "  <tbody>\n",
       "    <tr>\n",
       "      <th>0</th>\n",
       "      <td>Translate the following from English to German...</td>\n",
       "      <td>stablelm-tuned-alpha-7b</td>\n",
       "      <td>chatglm-6b</td>\n",
       "      <td>In English, the sentence \"Considering the numb...</td>\n",
       "      <td>\" Considering the number of desserts popular i...</td>\n",
       "      <td>tie (bothbad)</td>\n",
       "      <td>closed</td>\n",
       "      <td>factual</td>\n",
       "      <td>NaN</td>\n",
       "    </tr>\n",
       "    <tr>\n",
       "      <th>1</th>\n",
       "      <td>You are a helpful chatbot who looks at rows of...</td>\n",
       "      <td>stablelm-tuned-alpha-7b</td>\n",
       "      <td>gpt-4</td>\n",
       "      <td>Sure, I can help you categorize the rows of da...</td>\n",
       "      <td>[\"\", \"\", \"Shares\", \"Market Value •  ($000)\"]: ...</td>\n",
       "      <td>tie (bothbad)</td>\n",
       "      <td>closed</td>\n",
       "      <td>factual</td>\n",
       "      <td>NaN</td>\n",
       "    </tr>\n",
       "    <tr>\n",
       "      <th>2</th>\n",
       "      <td>Follow the instructions below:\\r\\n1. Analyse t...</td>\n",
       "      <td>llama-13b</td>\n",
       "      <td>RWKV-4-Raven-14B</td>\n",
       "      <td>I just moved to 123 Elm Street, Springfield, I...</td>\n",
       "      <td>1. True\\r\\n2. False</td>\n",
       "      <td>model_b</td>\n",
       "      <td>closed</td>\n",
       "      <td>factual</td>\n",
       "      <td>NaN</td>\n",
       "    </tr>\n",
       "    <tr>\n",
       "      <th>3</th>\n",
       "      <td>How to express a tree mathematically</td>\n",
       "      <td>vicuna-13b</td>\n",
       "      <td>dolly-v2-12b</td>\n",
       "      <td>There are several ways to express a tree mathe...</td>\n",
       "      <td>Let tree(x) denote a tree where x is the root ...</td>\n",
       "      <td>model_a</td>\n",
       "      <td>closed</td>\n",
       "      <td>math</td>\n",
       "      <td>NaN</td>\n",
       "    </tr>\n",
       "    <tr>\n",
       "      <th>4</th>\n",
       "      <td>Tell me if the following numbers are even or o...</td>\n",
       "      <td>llama-13b</td>\n",
       "      <td>vicuna-13b</td>\n",
       "      <td>3, 16, 17, 2110 are even.</td>\n",
       "      <td>3 is odd\\r\\n16 is even\\r\\n17 is odd\\r\\n2110 is...</td>\n",
       "      <td>model_b</td>\n",
       "      <td>closed</td>\n",
       "      <td>math</td>\n",
       "      <td>NaN</td>\n",
       "    </tr>\n",
       "  </tbody>\n",
       "</table>\n",
       "</div>"
      ],
      "text/plain": [
       "                                              prompt                  model_a  \\\n",
       "0  Translate the following from English to German...  stablelm-tuned-alpha-7b   \n",
       "1  You are a helpful chatbot who looks at rows of...  stablelm-tuned-alpha-7b   \n",
       "2  Follow the instructions below:\\r\\n1. Analyse t...                llama-13b   \n",
       "3               How to express a tree mathematically               vicuna-13b   \n",
       "4  Tell me if the following numbers are even or o...                llama-13b   \n",
       "\n",
       "            model_b                                         response_a  \\\n",
       "0        chatglm-6b  In English, the sentence \"Considering the numb...   \n",
       "1             gpt-4  Sure, I can help you categorize the rows of da...   \n",
       "2  RWKV-4-Raven-14B  I just moved to 123 Elm Street, Springfield, I...   \n",
       "3      dolly-v2-12b  There are several ways to express a tree mathe...   \n",
       "4        vicuna-13b                          3, 16, 17, 2110 are even.   \n",
       "\n",
       "                                          response_b         winner  \\\n",
       "0  \" Considering the number of desserts popular i...  tie (bothbad)   \n",
       "1  [\"\", \"\", \"Shares\", \"Market Value •  ($000)\"]: ...  tie (bothbad)   \n",
       "2                                1. True\\r\\n2. False        model_b   \n",
       "3  Let tree(x) denote a tree where x is the root ...        model_a   \n",
       "4  3 is odd\\r\\n16 is even\\r\\n17 is odd\\r\\n2110 is...        model_b   \n",
       "\n",
       "  Open/Closed   Domain Comments  \n",
       "0      closed  factual      NaN  \n",
       "1      closed  factual      NaN  \n",
       "2      closed  factual      NaN  \n",
       "3      closed     math      NaN  \n",
       "4      closed     math      NaN  "
      ]
     },
     "execution_count": 17,
     "metadata": {},
     "output_type": "execute_result"
    }
   ],
   "source": [
    "# import\n",
    "df_oc = pd.read_csv(\"sampled_dataset.csv\")\n",
    "df_oc = df_oc[df_oc['Domain'].isin(valid_domains)].copy()\n",
    "df_oc.head()"
   ]
  },
  {
   "cell_type": "code",
   "execution_count": 18,
   "id": "8a2107c4",
   "metadata": {},
   "outputs": [
    {
     "data": {
      "text/html": [
       "<div>\n",
       "<style scoped>\n",
       "    .dataframe tbody tr th:only-of-type {\n",
       "        vertical-align: middle;\n",
       "    }\n",
       "\n",
       "    .dataframe tbody tr th {\n",
       "        vertical-align: top;\n",
       "    }\n",
       "\n",
       "    .dataframe thead th {\n",
       "        text-align: right;\n",
       "    }\n",
       "</style>\n",
       "<table border=\"1\" class=\"dataframe\">\n",
       "  <thead>\n",
       "    <tr style=\"text-align: right;\">\n",
       "      <th></th>\n",
       "      <th>prompt</th>\n",
       "      <th>model_a</th>\n",
       "      <th>model_b</th>\n",
       "      <th>response_a</th>\n",
       "      <th>response_b</th>\n",
       "      <th>winner</th>\n",
       "      <th>Open/Closed</th>\n",
       "      <th>Domain</th>\n",
       "      <th>Comments</th>\n",
       "      <th>combined_text</th>\n",
       "    </tr>\n",
       "  </thead>\n",
       "  <tbody>\n",
       "    <tr>\n",
       "      <th>0</th>\n",
       "      <td>Translate the following from English to German...</td>\n",
       "      <td>stablelm-tuned-alpha-7b</td>\n",
       "      <td>chatglm-6b</td>\n",
       "      <td>In English, the sentence \"Considering the numb...</td>\n",
       "      <td>\" Considering the number of desserts popular i...</td>\n",
       "      <td>tie (bothbad)</td>\n",
       "      <td>closed</td>\n",
       "      <td>factual</td>\n",
       "      <td>NaN</td>\n",
       "      <td>closed [SEP] Translate the following from Engl...</td>\n",
       "    </tr>\n",
       "    <tr>\n",
       "      <th>1</th>\n",
       "      <td>You are a helpful chatbot who looks at rows of...</td>\n",
       "      <td>stablelm-tuned-alpha-7b</td>\n",
       "      <td>gpt-4</td>\n",
       "      <td>Sure, I can help you categorize the rows of da...</td>\n",
       "      <td>[\"\", \"\", \"Shares\", \"Market Value •  ($000)\"]: ...</td>\n",
       "      <td>tie (bothbad)</td>\n",
       "      <td>closed</td>\n",
       "      <td>factual</td>\n",
       "      <td>NaN</td>\n",
       "      <td>closed [SEP] You are a helpful chatbot who loo...</td>\n",
       "    </tr>\n",
       "    <tr>\n",
       "      <th>2</th>\n",
       "      <td>Follow the instructions below:\\r\\n1. Analyse t...</td>\n",
       "      <td>llama-13b</td>\n",
       "      <td>RWKV-4-Raven-14B</td>\n",
       "      <td>I just moved to 123 Elm Street, Springfield, I...</td>\n",
       "      <td>1. True\\r\\n2. False</td>\n",
       "      <td>model_b</td>\n",
       "      <td>closed</td>\n",
       "      <td>factual</td>\n",
       "      <td>NaN</td>\n",
       "      <td>closed [SEP] Follow the instructions below:\\r\\...</td>\n",
       "    </tr>\n",
       "    <tr>\n",
       "      <th>3</th>\n",
       "      <td>How to express a tree mathematically</td>\n",
       "      <td>vicuna-13b</td>\n",
       "      <td>dolly-v2-12b</td>\n",
       "      <td>There are several ways to express a tree mathe...</td>\n",
       "      <td>Let tree(x) denote a tree where x is the root ...</td>\n",
       "      <td>model_a</td>\n",
       "      <td>closed</td>\n",
       "      <td>math</td>\n",
       "      <td>NaN</td>\n",
       "      <td>closed [SEP] How to express a tree mathematically</td>\n",
       "    </tr>\n",
       "    <tr>\n",
       "      <th>4</th>\n",
       "      <td>Tell me if the following numbers are even or o...</td>\n",
       "      <td>llama-13b</td>\n",
       "      <td>vicuna-13b</td>\n",
       "      <td>3, 16, 17, 2110 are even.</td>\n",
       "      <td>3 is odd\\r\\n16 is even\\r\\n17 is odd\\r\\n2110 is...</td>\n",
       "      <td>model_b</td>\n",
       "      <td>closed</td>\n",
       "      <td>math</td>\n",
       "      <td>NaN</td>\n",
       "      <td>closed [SEP] Tell me if the following numbers ...</td>\n",
       "    </tr>\n",
       "  </tbody>\n",
       "</table>\n",
       "</div>"
      ],
      "text/plain": [
       "                                              prompt                  model_a  \\\n",
       "0  Translate the following from English to German...  stablelm-tuned-alpha-7b   \n",
       "1  You are a helpful chatbot who looks at rows of...  stablelm-tuned-alpha-7b   \n",
       "2  Follow the instructions below:\\r\\n1. Analyse t...                llama-13b   \n",
       "3               How to express a tree mathematically               vicuna-13b   \n",
       "4  Tell me if the following numbers are even or o...                llama-13b   \n",
       "\n",
       "            model_b                                         response_a  \\\n",
       "0        chatglm-6b  In English, the sentence \"Considering the numb...   \n",
       "1             gpt-4  Sure, I can help you categorize the rows of da...   \n",
       "2  RWKV-4-Raven-14B  I just moved to 123 Elm Street, Springfield, I...   \n",
       "3      dolly-v2-12b  There are several ways to express a tree mathe...   \n",
       "4        vicuna-13b                          3, 16, 17, 2110 are even.   \n",
       "\n",
       "                                          response_b         winner  \\\n",
       "0  \" Considering the number of desserts popular i...  tie (bothbad)   \n",
       "1  [\"\", \"\", \"Shares\", \"Market Value •  ($000)\"]: ...  tie (bothbad)   \n",
       "2                                1. True\\r\\n2. False        model_b   \n",
       "3  Let tree(x) denote a tree where x is the root ...        model_a   \n",
       "4  3 is odd\\r\\n16 is even\\r\\n17 is odd\\r\\n2110 is...        model_b   \n",
       "\n",
       "  Open/Closed   Domain Comments  \\\n",
       "0      closed  factual      NaN   \n",
       "1      closed  factual      NaN   \n",
       "2      closed  factual      NaN   \n",
       "3      closed     math      NaN   \n",
       "4      closed     math      NaN   \n",
       "\n",
       "                                       combined_text  \n",
       "0  closed [SEP] Translate the following from Engl...  \n",
       "1  closed [SEP] You are a helpful chatbot who loo...  \n",
       "2  closed [SEP] Follow the instructions below:\\r\\...  \n",
       "3  closed [SEP] How to express a tree mathematically  \n",
       "4  closed [SEP] Tell me if the following numbers ...  "
      ]
     },
     "execution_count": 18,
     "metadata": {},
     "output_type": "execute_result"
    }
   ],
   "source": [
    "# make a combined text column for features that are used (since features do not have weights in RBF due to being nonlinear)\n",
    "df_oc[\"combined_text\"] = (\n",
    "    df_oc[\"Open/Closed\"] + \" [SEP] \" + \n",
    "    df_oc[\"prompt\"].astype(str)\n",
    ")\n",
    "df_oc.head()"
   ]
  },
  {
   "cell_type": "code",
   "execution_count": 19,
   "id": "6e93685b",
   "metadata": {},
   "outputs": [],
   "source": [
    "# transform domain labels\n",
    "df_oc[\"domain_label\"] = le.fit_transform(df_oc[\"Domain\"])\n",
    "label_mapping_oc = dict(zip(le.classes_, le.transform(le.classes_)))"
   ]
  },
  {
   "cell_type": "code",
   "execution_count": 20,
   "id": "13f55da8",
   "metadata": {},
   "outputs": [
    {
     "name": "stdout",
     "output_type": "stream",
     "text": [
      "Train size: 453, Test size: 114\n"
     ]
    }
   ],
   "source": [
    "# train test split \n",
    "from sklearn.model_selection import train_test_split\n",
    "\n",
    "X_train_oc, X_test_oc, y_train_oc, y_test_oc = train_test_split(\n",
    "    df_oc[\"combined_text\"], df_oc[\"domain_label\"],\n",
    "    test_size=0.2, random_state=42, stratify=df_oc[\"Domain\"]\n",
    ")\n",
    "print(f\"Train size: {len(X_train_oc)}, Test size: {len(X_test_oc)}\")"
   ]
  },
  {
   "cell_type": "code",
   "execution_count": 21,
   "id": "93619bb3",
   "metadata": {},
   "outputs": [],
   "source": [
    "# vectorize text data using TF-IDF\n",
    "X_train_vec_oc = vectorizer.fit_transform(X_train_oc)\n",
    "X_test_vec_oc = vectorizer.transform(X_test_oc)"
   ]
  },
  {
   "cell_type": "code",
   "execution_count": 22,
   "id": "6f3e7c2a",
   "metadata": {},
   "outputs": [
    {
     "name": "stdout",
     "output_type": "stream",
     "text": [
      "Fitting 5 folds for each of 16 candidates, totalling 80 fits\n",
      "Best hyperparameters found: {'C': 100, 'gamma': 0.1}\n"
     ]
    }
   ],
   "source": [
    "# hyperparameter tuning \n",
    "grid_search.fit(X_train_vec_oc, y_train_oc)\n",
    "\n",
    "# Best hyperparameters\n",
    "print(\"Best hyperparameters found:\", grid_search.best_params_)\n",
    "\n",
    "# Train your final model using the best estimator\n",
    "best_svm_oc = grid_search.best_estimator_"
   ]
  },
  {
   "cell_type": "code",
   "execution_count": 23,
   "id": "1e3d6417",
   "metadata": {},
   "outputs": [
    {
     "name": "stdout",
     "output_type": "stream",
     "text": [
      "              precision    recall  f1-score   support\n",
      "\n",
      "        code       0.80      0.53      0.64        15\n",
      "    creative       0.67      0.73      0.70        30\n",
      "     factual       0.51      0.64      0.57        36\n",
      "        math       0.25      0.12      0.17         8\n",
      "     opinion       0.50      0.44      0.47        25\n",
      "\n",
      "    accuracy                           0.57       114\n",
      "   macro avg       0.55      0.49      0.51       114\n",
      "weighted avg       0.57      0.57      0.56       114\n",
      "\n"
     ]
    }
   ],
   "source": [
    "# Evaluate the tuned model\n",
    "y_pred_oc = best_svm_oc.predict(X_test_vec_oc)\n",
    "print(classification_report(y_test_oc, y_pred_oc, target_names=le.classes_))"
   ]
  },
  {
   "cell_type": "markdown",
   "id": "1cf91b28-304a-42f4-9483-8e77c9ddb0c2",
   "metadata": {},
   "source": [
    "# Visualizations"
   ]
  },
  {
   "cell_type": "code",
   "execution_count": 24,
   "id": "a3c72078-4305-4438-8d2e-1670daf77ebc",
   "metadata": {},
   "outputs": [
    {
     "data": {
      "image/png": "[encoded data removed]",
      "text/plain": [
       "<Figure size 640x480 with 2 Axes>"
      ]
     },
     "metadata": {},
     "output_type": "display_data"
    }
   ],
   "source": [
    "from sklearn.metrics import ConfusionMatrixDisplay\n",
    "import matplotlib.pyplot as plt\n",
    "\n",
    "ConfusionMatrixDisplay.from_estimator(\n",
    "    best_svm_oc, X_test_vec_oc, y_test_oc,\n",
    "    display_labels=le.classes_,\n",
    "    cmap='Blues',\n",
    "    xticks_rotation=45\n",
    ")\n",
    "plt.title(\"Confusion Matrix - Domain Classifier\")\n",
    "plt.tight_layout()\n",
    "plt.show()\n"
   ]
  },
  {
   "cell_type": "code",
   "execution_count": 25,
   "id": "c89b0441-4070-4c35-b2ee-137fcf847f95",
   "metadata": {},
   "outputs": [
    {
     "data": {
      "image/png": "[encoded data removed]",
      "text/plain": [
       "<Figure size 800x400 with 2 Axes>"
      ]
     },
     "metadata": {},
     "output_type": "display_data"
    }
   ],
   "source": [
    "from sklearn.metrics import classification_report\n",
    "import seaborn as sns\n",
    "import pandas as pd\n",
    "\n",
    "report = classification_report(y_test_oc, y_pred_oc, target_names=le.classes_, output_dict=True)\n",
    "report_df = pd.DataFrame(report).iloc[:-1, :3] \n",
    "\n",
    "plt.figure(figsize=(8, 4))\n",
    "sns.heatmap(report_df, annot=True, cmap=\"YlGnBu\", fmt=\".2f\")\n",
    "plt.title(\"Classification Report Metrics\")\n",
    "plt.tight_layout()\n",
    "plt.show()\n"
   ]
  },
  {
   "cell_type": "code",
   "execution_count": 26,
   "id": "54bf442f-766f-4c5f-bd6b-bb712f329606",
   "metadata": {},
   "outputs": [
    {
     "data": {
      "image/png": "[encoded data removed]",
      "text/plain": [
       "<Figure size 640x480 with 1 Axes>"
      ]
     },
     "metadata": {},
     "output_type": "display_data"
    }
   ],
   "source": [
    "sns.countplot(x='Domain', data=df)\n",
    "plt.title(\"Distribution of Samples per Domain\")\n",
    "plt.xticks(rotation=45)\n",
    "plt.tight_layout()\n",
    "plt.show()\n"
   ]
  },
  {
   "cell_type": "code",
   "execution_count": 27,
   "id": "a7fb5f57-39c3-4ea8-930d-e4f2e573055f",
   "metadata": {},
   "outputs": [
    {
     "data": {
      "image/png": "[encoded data removed]",
      "text/plain": [
       "<Figure size 800x400 with 1 Axes>"
      ]
     },
     "metadata": {},
     "output_type": "display_data"
    },
    {
     "data": {
      "image/png": "[encoded data removed]",
      "text/plain": [
       "<Figure size 800x400 with 1 Axes>"
      ]
     },
     "metadata": {},
     "output_type": "display_data"
    },
    {
     "data": {
      "image/png": "[encoded data removed]",
      "text/plain": [
       "<Figure size 800x400 with 1 Axes>"
      ]
     },
     "metadata": {},
     "output_type": "display_data"
    },
    {
     "data": {
      "image/png": "[encoded data removed]",
      "text/plain": [
       "<Figure size 800x400 with 1 Axes>"
      ]
     },
     "metadata": {},
     "output_type": "display_data"
    },
    {
     "data": {
      "image/png": "[encoded data removed]",
      "text/plain": [
       "<Figure size 800x400 with 1 Axes>"
      ]
     },
     "metadata": {},
     "output_type": "display_data"
    }
   ],
   "source": [
    "import matplotlib.pyplot as plt\n",
    "\n",
    "top_words_dict = {\n",
    "    'code': ['closed', 'closed sep', 'code', 'function', 'program', 'tuples', 'output', 'using', 'files', 'value'],\n",
    "    'creative': ['code', 'function', 'using', 'python', 'want', 'column', 'files', 'values', 'write', 'problem'],\n",
    "    'factual': ['write', 'function', 'files', 'code', 'sep write', 'want', 'python', 'document', 'using', 'output'],\n",
    "    'math': ['code', 'closed', 'closed sep', 'function', 'using', 'write', 'files', 'problem', 'tuples', 'value'],\n",
    "    'opinion': ['sep write', 'poem', 'story', 'birds', 'apple', 'write', 'joke', 'world', 'create', 'root']\n",
    "}\n",
    "\n",
    "for domain, words in top_words_dict.items():\n",
    "    plt.figure(figsize=(8, 4))\n",
    "    plt.barh(words[::-1], range(1, 11)) \n",
    "    plt.title(f\"Top 10 TF-IDF Words for Class: {domain}\")\n",
    "    plt.xlabel(\"Rank (1 = Most Predictive)\")\n",
    "    plt.tight_layout()\n",
    "    plt.show()\n"
   ]
  },
  {
   "cell_type": "code",
   "execution_count": 28,
   "id": "e7f77f27-ca73-457f-ab53-0e7b2a3dd8c1",
   "metadata": {},
   "outputs": [
    {
     "data": {
      "text/plain": [
       "['label_encoder.joblib']"
      ]
     },
     "execution_count": 28,
     "metadata": {},
     "output_type": "execute_result"
    }
   ],
   "source": [
    "import streamlit\n",
    "import joblib\n",
    "joblib.dump(best_svm_oc, \"best_svm_model.joblib\")\n",
    "joblib.dump(vectorizer, \"tfidf_vectorizer.joblib\")\n",
    "joblib.dump(le, \"label_encoder.joblib\")\n",
    "\n",
    "\n"
   ]
  },
  {
   "cell_type": "code",
   "execution_count": 29,
   "id": "f2eb6a43-514e-40db-9168-883eacf17b46",
   "metadata": {},
   "outputs": [
    {
     "data": {
      "text/html": [
       "\n",
       "        <iframe\n",
       "            width=\"100%\"\n",
       "            height=\"650\"\n",
       "            src=\"http://0.0.0.0:10000/\"\n",
       "            frameborder=\"0\"\n",
       "            allowfullscreen\n",
       "            \n",
       "        ></iframe>\n",
       "        "
      ],
      "text/plain": [
       "<IPython.lib.display.IFrame at 0x12cf79610>"
      ]
     },
     "metadata": {},
     "output_type": "display_data"
    }
   ],
   "source": [
    "import joblib\n",
    "from dash import Dash, dcc, html, Input, Output\n",
    "\n",
    "# Load trained model and associated vectorizer/encoder\n",
    "model = joblib.load(\"best_svm_model.joblib\")\n",
    "vectorizer = joblib.load(\"tfidf_vectorizer.joblib\")\n",
    "label_encoder = joblib.load(\"label_encoder.joblib\")\n",
    "\n",
    "# Initialize Dash app\n",
    "app = Dash(__name__)\n",
    "\n",
    "app.layout = html.Div([\n",
    "    html.H1(\"🤖 LLM Arena: Chatbot Domain Classifier\", \n",
    "            style={\"textAlign\": \"center\", \"fontFamily\": \"Arial\", \"marginTop\": \"30px\"}),\n",
    "\n",
    "    html.Div([\n",
    "        dcc.Textarea(\n",
    "            id='user_input',\n",
    "            placeholder='💬 Type your prompt here...',\n",
    "            style={\n",
    "                'width': '100%',\n",
    "                'height': '150px',\n",
    "                'borderRadius': '10px',\n",
    "                'padding': '10px',\n",
    "                'fontSize': '16px',\n",
    "                'fontFamily': 'Courier New',\n",
    "                'boxShadow': '0 0 5px rgba(0,0,0,0.1)'\n",
    "            }\n",
    "        ),\n",
    "        html.Button('🚀 Classify Domain', id='predict_button', n_clicks=0, \n",
    "                    style={\n",
    "                        'marginTop': '10px',\n",
    "                        'padding': '10px 20px',\n",
    "                        'fontSize': '16px',\n",
    "                        'borderRadius': '5px',\n",
    "                        'backgroundColor': '#007BFF',\n",
    "                        'color': 'white',\n",
    "                        'border': 'none',\n",
    "                        'cursor': 'pointer'\n",
    "                    }),\n",
    "        html.Div(id='prediction_output', \n",
    "                 style={\n",
    "                     'marginTop': '20px', \n",
    "                     'fontWeight': 'bold',\n",
    "                     'fontSize': '20px',\n",
    "                     'color': '#2E8B57'\n",
    "                 })\n",
    "    ], style={\n",
    "        'maxWidth': '700px', \n",
    "        'margin': 'auto', \n",
    "        'padding': '20px',\n",
    "        'backgroundColor': '#F9F9F9',\n",
    "        'borderRadius': '10px',\n",
    "        'boxShadow': '0 0 10px rgba(0,0,0,0.05)'\n",
    "    })\n",
    "])\n",
    "\n",
    "\n",
    "@app.callback(\n",
    "    Output('prediction_output', 'children'),\n",
    "    Input('predict_button', 'n_clicks'),\n",
    "    Input('user_input', 'value')\n",
    ")\n",
    "def classify_domain(n_clicks, text):\n",
    "    if n_clicks > 0 and text:\n",
    "        X = vectorizer.transform([text])\n",
    "        pred = model.predict(X)\n",
    "        domain = label_encoder.inverse_transform(pred)[0]\n",
    "        return f\"Predicted Domain: {domain}\"\n",
    "    return \"\"\n",
    "\n",
    "import os\n",
    "\n",
    "if __name__ == '__main__':\n",
    "    port = int(os.environ.get(\"PORT\", 10000))  # Render sets PORT at runtime\n",
    "    app.run_server(debug=False, host=\"0.0.0.0\", port=port)\n"
   ]
  },
  {
   "cell_type": "code",
   "execution_count": null,
   "id": "9c8aa432-c6e4-4f27-a2df-63bdd1d1084a",
   "metadata": {},
   "outputs": [],
   "source": []
  },
  {
   "cell_type": "code",
   "execution_count": null,
   "id": "beea09bc-1e93-4e2a-b1bd-7a513c2e5ae9",
   "metadata": {},
   "outputs": [],
   "source": []
  }
 ],
 "metadata": {
  "kernelspec": {
   "display_name": "Python 3 (ipykernel)",
   "language": "python",
   "name": "python3"
  },
  "language_info": {
   "codemirror_mode": {
    "name": "ipython",
    "version": 3
   },
   "file_extension": ".py",
   "mimetype": "text/x-python",
   "name": "python",
   "nbconvert_exporter": "python",
   "pygments_lexer": "ipython3",
   "version": "3.12.4"
  }
 },
 "nbformat": 4,
 "nbformat_minor": 5
}
